{
 "cells": [
  {
   "cell_type": "code",
   "execution_count": 1,
   "id": "623ce0c6",
   "metadata": {},
   "outputs": [
    {
     "name": "stdout",
     "output_type": "stream",
     "text": [
      "start_node [[0], [0]]\n",
      "goal_node [[3], [2]]\n",
      "empty\n",
      "closed_list\n",
      "[1, 0, 0, 0]\n",
      "[2, 0, 0, 0]\n",
      "[3, 0, 0, 0]\n",
      "[4, 0, 8, 0]\n",
      "[5, 6, 7, 0]\n",
      "   \n",
      "policy_number\n",
      "['*', '*', '*', '*']\n",
      "[0, '*', '*', '*']\n",
      "[0, '*', '*', '*']\n",
      "[0, '*', 1, '*']\n",
      "[0, 2, 2, '*']\n"
     ]
    }
   ],
   "source": [
    "grid_world2=[[0,1,0,0],\n",
    "             [0,1,0,1],\n",
    "             [0,1,1,0],\n",
    "             [0,1,0,1],\n",
    "             [0,0,0,1]]\n",
    "\n",
    "\n",
    "\n",
    "policy_number=[['*' for col in range(len(grid_world2[1]))]for row in range(len(grid_world2))]\n",
    "closed_list=[[0 for col in range(len(grid_world2[1]))]for row in range(len(grid_world2))]\n",
    "start_node=[[len(grid_world2)-5],[len(grid_world2[1])-4]]\n",
    "goal_node=[[len(grid_world2)-2],[len(grid_world2[1])-2]]\n",
    "action=[[1,0],[-1,0],[0,1],[0,-1]]\n",
    "g=0\n",
    "x=start_node[0][0]\n",
    "y=start_node[1][0]\n",
    "count=1\n",
    "print('start_node',start_node)\n",
    "print('goal_node',goal_node)\n",
    "\n",
    "\n",
    "open_list=[[g,x,y]]\n",
    "\n",
    "closed_list[0][0]=1\n",
    "cost=1\n",
    "\n",
    "open_list_empty=False\n",
    "goal_found=False\n",
    "\n",
    "while open_list_empty==False and goal_found==False:\n",
    "    if len(open_list)==0:\n",
    "        open_list_empty=True\n",
    "        print(\"empty\")\n",
    "    else:\n",
    "        open_list.sort()\n",
    "        open_list.reverse()\n",
    "        current_node=open_list.pop()\n",
    "        g=current_node[0]\n",
    "        x=current_node[1]\n",
    "        y=current_node[2]\n",
    "    if x==goal_node and y==goal_node[1]:\n",
    "        goal_found=True\n",
    "    else:\n",
    "        for i in range(len(action)):\n",
    "            x2 = x + action[i][0]\n",
    "            y2= y + action[i][1]\n",
    "            \n",
    "        \n",
    "            \n",
    "            if x2>=0 and x2<len(grid_world2) and y2>=0 and y2<len(grid_world2[1]):\n",
    "                \n",
    "                if closed_list[x2][y2]==0 and grid_world2[x2][y2]==0:\n",
    "                    g2=g+cost\n",
    "                    open_list.append([g2,x2,y2])\n",
    "                    count+=1\n",
    "                    closed_list[x2][y2]=count\n",
    "                    policy_number[x2][y2]=i\n",
    "print('closed_list')\n",
    "for i in range(len(closed_list)):\n",
    "    print(closed_list[i])\n",
    "print(\"   \")\n",
    "print('policy_number')\n",
    "for i in range(len(policy_number)):\n",
    "    print(policy_number[i])\n",
    "    \n",
    "            \n",
    "        \n",
    "    \n",
    "        \n",
    "        \n",
    "        \n",
    "   "
   ]
  },
  {
   "cell_type": "code",
   "execution_count": null,
   "id": "0020ecf9",
   "metadata": {},
   "outputs": [],
   "source": []
  }
 ],
 "metadata": {
  "kernelspec": {
   "display_name": "Python 3.9.12 ('base')",
   "language": "python",
   "name": "python3"
  },
  "language_info": {
   "codemirror_mode": {
    "name": "ipython",
    "version": 3
   },
   "file_extension": ".py",
   "mimetype": "text/x-python",
   "name": "python",
   "nbconvert_exporter": "python",
   "pygments_lexer": "ipython3",
   "version": "3.9.12"
  },
  "vscode": {
   "interpreter": {
    "hash": "a077222d77dfe082b8f1dd562ad70e458ac2ab76993a0b248ab0476e32e9e8dd"
   }
  }
 },
 "nbformat": 4,
 "nbformat_minor": 5
}
